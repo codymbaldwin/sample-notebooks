{
  "nbformat": 4,
  "nbformat_minor": 0,
  "metadata": {
    "kernelspec": {
      "display_name": "R",
      "language": "R",
      "name": "ir"
    },
    "language_info": {
      "codemirror_mode": "r",
      "file_extension": ".r",
      "mimetype": "text/x-r-source",
      "name": "R",
      "pygments_lexer": "r",
      "version": "3.6.1"
    },
    "colab": {
      "name": "BUSM 410 - hr_code.ipynb",
      "provenance": []
    }
  },
  "cells": [
    {
      "cell_type": "markdown",
      "metadata": {
        "id": "5svLHmpplF7k"
      },
      "source": [
        "# Analysis of Employee Attrition\n",
        "\n",
        "### PREPARED BY CODY BALDWIN\n",
        "\n",
        "It has been estimated that, when an employee leaves (voluntarily or involuntarily), it costs 1.5x their salary to replace them.  Those costs include time spent by (1) recruiters who identify job candidates, (2) existing employees who vet and interview those candidates, and (3) new employees who undergo training to \"get up to speed.\"  **In this analysis, I attempt to (1) understand and predict employee attrition at company XYZ and (2) offer recommendations for addressing attrition based on the data analysis and additional research.**\n",
        "\n",
        "This report will be broken down into five sections:\n",
        "\n",
        "- Part 1: Load and explore the dataset.\n",
        "- Part 2: Graph the dataset.\n",
        "- Part 3: Prepare the data for modeling.\n",
        "- Part 4: Build and evaluate models for predicting attrition.\n",
        "- Part 5: Offer recommendations for addressing attrition.\n"
      ]
    },
    {
      "cell_type": "markdown",
      "metadata": {
        "id": "vncPbwxqlF7o"
      },
      "source": [
        "### PART 1: LOAD AND EXPLORE THE DATASET\n",
        "\n",
        "Prior to beginning our analysis, we need to load the dataset and the appropriate R code libraries and then explore the data."
      ]
    },
    {
      "cell_type": "code",
      "metadata": {
        "id": "Zxv3SVJClF7q"
      },
      "source": [
        "# Load the appropriate R code libraries.\n",
        "shh <- suppressPackageStartupMessages\n",
        "shh(library(ggplot2))\n",
        "shh(library(ggcorrplot))\n",
        "shh(library(caret))\n",
        "shh(library(pROC))\n",
        "shh(library(rpart))\n",
        "shh(library(randomForest))\n",
        "\n",
        "# Set standard dimensions for plots.\n",
        "options(repr.plot.width=3.5, repr.plot.height=3)"
      ],
      "execution_count": null,
      "outputs": []
    },
    {
      "cell_type": "code",
      "metadata": {
        "id": "PM8fDe-llF7z"
      },
      "source": [
        "# Load the CSV file containing employee data into a data frame.\n",
        "hr_data <- read.csv('http://bit.ly/employee_data')"
      ],
      "execution_count": null,
      "outputs": []
    },
    {
      "cell_type": "markdown",
      "metadata": {
        "id": "4tCY011KlF75"
      },
      "source": [
        "**The output below shows all the columns in the dataset.**  Attrition, which is ultimately what we want to predict, is listed first.  (0 indicates the employee stayed.  1 indicates they left.)  Other variables, which may be beneficial in making that prediction (such as the employee's age, income, and department), are listed after attrition. "
      ]
    },
    {
      "cell_type": "code",
      "metadata": {
        "scrolled": false,
        "id": "RP9M9wZslF77",
        "outputId": "116c1ecc-99e2-4b54-f19d-1ecf1475d87b"
      },
      "source": [
        "# Count the number of rows, and list the columns and their data types.\n",
        "str(hr_data)"
      ],
      "execution_count": null,
      "outputs": [
        {
          "output_type": "stream",
          "text": [
            "'data.frame':\t1470 obs. of  25 variables:\n",
            " $ Attrition              : int  1 0 1 0 0 0 0 0 0 0 ...\n",
            " $ EmployeeNumber         : int  1 2 4 5 7 8 10 11 12 13 ...\n",
            " $ Age                    : int  41 49 37 33 27 32 59 30 38 36 ...\n",
            " $ Gender                 : Factor w/ 2 levels \"Female\",\"Male\": 1 2 2 1 2 2 1 2 2 2 ...\n",
            " $ MaritalStatus          : Factor w/ 3 levels \"Divorced\",\"Married\",..: 3 2 3 2 2 3 2 1 3 2 ...\n",
            " $ Department             : Factor w/ 3 levels \"Human Resources\",..: 3 2 2 2 2 2 2 2 2 2 ...\n",
            " $ JobRole                : Factor w/ 9 levels \"Healthcare Representative\",..: 8 7 3 7 3 3 3 3 5 1 ...\n",
            " $ MonthlyIncome          : int  5993 5130 2090 2909 3468 3068 2670 2693 9526 5237 ...\n",
            " $ OverTime               : Factor w/ 2 levels \"No\",\"Yes\": 2 1 2 2 1 1 2 1 1 1 ...\n",
            " $ EducationField         : Factor w/ 6 levels \"Human Resources\",..: 2 2 5 2 4 2 4 2 2 4 ...\n",
            " $ BusinessTravel         : Factor w/ 3 levels \"Non-Travel\",\"Travel_Frequently\",..: 3 2 3 2 3 2 3 3 2 3 ...\n",
            " $ DistanceFromHome       : int  1 8 2 3 2 2 3 24 23 27 ...\n",
            " $ JobLevel               : int  2 2 1 1 1 1 1 1 3 2 ...\n",
            " $ JobInvolvement         : int  3 2 2 3 3 3 4 3 2 3 ...\n",
            " $ JobSatisfaction        : int  4 2 3 3 2 4 1 3 3 3 ...\n",
            " $ PerformanceRating      : int  3 4 3 3 3 3 4 4 4 3 ...\n",
            " $ PercentSalaryHike      : int  11 23 15 11 12 13 20 22 21 13 ...\n",
            " $ StockOptionLevel       : int  0 1 0 0 1 0 3 1 0 2 ...\n",
            " $ TrainingTimesLastYear  : int  0 3 3 3 3 2 3 2 2 3 ...\n",
            " $ TotalWorkingYears      : int  8 10 7 8 6 8 12 1 10 17 ...\n",
            " $ NumCompaniesWorked     : int  8 1 6 1 9 0 4 1 0 6 ...\n",
            " $ YearsAtCompany         : int  6 10 0 8 2 7 1 1 9 7 ...\n",
            " $ YearsInCurrentRole     : int  4 7 0 7 2 7 0 0 7 7 ...\n",
            " $ YearsSinceLastPromotion: int  0 1 0 3 2 3 0 0 1 7 ...\n",
            " $ YearsWithCurrManager   : int  5 7 0 0 2 6 0 0 8 7 ...\n"
          ],
          "name": "stdout"
        }
      ]
    },
    {
      "cell_type": "code",
      "metadata": {
        "scrolled": false,
        "id": "SwrjDocwlF8C",
        "outputId": "019dd2e0-a368-47f8-91a0-6b23626db06f"
      },
      "source": [
        "# Preview the first few records in the data frame.\n",
        "head(hr_data)"
      ],
      "execution_count": null,
      "outputs": [
        {
          "output_type": "display_data",
          "data": {
            "text/html": [
              "<table>\n",
              "<thead><tr><th scope=col>Attrition</th><th scope=col>EmployeeNumber</th><th scope=col>Age</th><th scope=col>Gender</th><th scope=col>MaritalStatus</th><th scope=col>Department</th><th scope=col>JobRole</th><th scope=col>MonthlyIncome</th><th scope=col>OverTime</th><th scope=col>EducationField</th><th scope=col>...</th><th scope=col>PerformanceRating</th><th scope=col>PercentSalaryHike</th><th scope=col>StockOptionLevel</th><th scope=col>TrainingTimesLastYear</th><th scope=col>TotalWorkingYears</th><th scope=col>NumCompaniesWorked</th><th scope=col>YearsAtCompany</th><th scope=col>YearsInCurrentRole</th><th scope=col>YearsSinceLastPromotion</th><th scope=col>YearsWithCurrManager</th></tr></thead>\n",
              "<tbody>\n",
              "\t<tr><td>1                     </td><td>1                     </td><td>41                    </td><td>Female                </td><td>Single                </td><td>Sales                 </td><td>Sales Executive       </td><td>5993                  </td><td>Yes                   </td><td>Life Sciences         </td><td>...                   </td><td>3                     </td><td>11                    </td><td>0                     </td><td>0                     </td><td> 8                    </td><td>8                     </td><td> 6                    </td><td>4                     </td><td>0                     </td><td>5                     </td></tr>\n",
              "\t<tr><td>0                                                            </td><td>2                                                            </td><td>49                                                           </td><td><span style=white-space:pre-wrap>Male  </span>               </td><td>Married                                                      </td><td>Research &amp; Development                                   </td><td><span style=white-space:pre-wrap>Research Scientist   </span></td><td>5130                                                         </td><td>No                                                           </td><td>Life Sciences                                                </td><td>...                                                          </td><td>4                                                            </td><td>23                                                           </td><td>1                                                            </td><td>3                                                            </td><td>10                                                           </td><td>1                                                            </td><td>10                                                           </td><td>7                                                            </td><td>1                                                            </td><td>7                                                            </td></tr>\n",
              "\t<tr><td>1                                                    </td><td>4                                                    </td><td>37                                                   </td><td><span style=white-space:pre-wrap>Male  </span>       </td><td>Single                                               </td><td>Research &amp; Development                           </td><td>Laboratory Technician                                </td><td>2090                                                 </td><td>Yes                                                  </td><td><span style=white-space:pre-wrap>Other        </span></td><td>...                                                  </td><td>3                                                    </td><td>15                                                   </td><td>0                                                    </td><td>3                                                    </td><td> 7                                                   </td><td>6                                                    </td><td> 0                                                   </td><td>0                                                    </td><td>0                                                    </td><td>0                                                    </td></tr>\n",
              "\t<tr><td>0                                                            </td><td>5                                                            </td><td>33                                                           </td><td>Female                                                       </td><td>Married                                                      </td><td>Research &amp; Development                                   </td><td><span style=white-space:pre-wrap>Research Scientist   </span></td><td>2909                                                         </td><td>Yes                                                          </td><td>Life Sciences                                                </td><td>...                                                          </td><td>3                                                            </td><td>11                                                           </td><td>0                                                            </td><td>3                                                            </td><td> 8                                                           </td><td>1                                                            </td><td> 8                                                           </td><td>7                                                            </td><td>3                                                            </td><td>0                                                            </td></tr>\n",
              "\t<tr><td>0                                                    </td><td>7                                                    </td><td>27                                                   </td><td><span style=white-space:pre-wrap>Male  </span>       </td><td>Married                                              </td><td>Research &amp; Development                           </td><td>Laboratory Technician                                </td><td>3468                                                 </td><td>No                                                   </td><td><span style=white-space:pre-wrap>Medical      </span></td><td>...                                                  </td><td>3                                                    </td><td>12                                                   </td><td>1                                                    </td><td>3                                                    </td><td> 6                                                   </td><td>9                                                    </td><td> 2                                                   </td><td>2                                                    </td><td>2                                                    </td><td>2                                                    </td></tr>\n",
              "\t<tr><td>0                                             </td><td>8                                             </td><td>32                                            </td><td><span style=white-space:pre-wrap>Male  </span></td><td>Single                                        </td><td>Research &amp; Development                    </td><td>Laboratory Technician                         </td><td>3068                                          </td><td>No                                            </td><td>Life Sciences                                 </td><td>...                                           </td><td>3                                             </td><td>13                                            </td><td>0                                             </td><td>2                                             </td><td> 8                                            </td><td>0                                             </td><td> 7                                            </td><td>7                                             </td><td>3                                             </td><td>6                                             </td></tr>\n",
              "</tbody>\n",
              "</table>\n"
            ],
            "text/latex": "\\begin{tabular}{r|lllllllllllllllllllllllll}\n Attrition & EmployeeNumber & Age & Gender & MaritalStatus & Department & JobRole & MonthlyIncome & OverTime & EducationField & ... & PerformanceRating & PercentSalaryHike & StockOptionLevel & TrainingTimesLastYear & TotalWorkingYears & NumCompaniesWorked & YearsAtCompany & YearsInCurrentRole & YearsSinceLastPromotion & YearsWithCurrManager\\\\\n\\hline\n\t 1                      & 1                      & 41                     & Female                 & Single                 & Sales                  & Sales Executive        & 5993                   & Yes                    & Life Sciences          & ...                    & 3                      & 11                     & 0                      & 0                      &  8                     & 8                      &  6                     & 4                      & 0                      & 5                     \\\\\n\t 0                        & 2                        & 49                       & Male                     & Married                  & Research \\& Development & Research Scientist       & 5130                     & No                       & Life Sciences            & ...                      & 4                        & 23                       & 1                        & 3                        & 10                       & 1                        & 10                       & 7                        & 1                        & 7                       \\\\\n\t 1                        & 4                        & 37                       & Male                     & Single                   & Research \\& Development & Laboratory Technician    & 2090                     & Yes                      & Other                    & ...                      & 3                        & 15                       & 0                        & 3                        &  7                       & 6                        &  0                       & 0                        & 0                        & 0                       \\\\\n\t 0                        & 5                        & 33                       & Female                   & Married                  & Research \\& Development & Research Scientist       & 2909                     & Yes                      & Life Sciences            & ...                      & 3                        & 11                       & 0                        & 3                        &  8                       & 1                        &  8                       & 7                        & 3                        & 0                       \\\\\n\t 0                        & 7                        & 27                       & Male                     & Married                  & Research \\& Development & Laboratory Technician    & 3468                     & No                       & Medical                  & ...                      & 3                        & 12                       & 1                        & 3                        &  6                       & 9                        &  2                       & 2                        & 2                        & 2                       \\\\\n\t 0                        & 8                        & 32                       & Male                     & Single                   & Research \\& Development & Laboratory Technician    & 3068                     & No                       & Life Sciences            & ...                      & 3                        & 13                       & 0                        & 2                        &  8                       & 0                        &  7                       & 7                        & 3                        & 6                       \\\\\n\\end{tabular}\n",
            "text/markdown": "\n| Attrition | EmployeeNumber | Age | Gender | MaritalStatus | Department | JobRole | MonthlyIncome | OverTime | EducationField | ... | PerformanceRating | PercentSalaryHike | StockOptionLevel | TrainingTimesLastYear | TotalWorkingYears | NumCompaniesWorked | YearsAtCompany | YearsInCurrentRole | YearsSinceLastPromotion | YearsWithCurrManager |\n|---|---|---|---|---|---|---|---|---|---|---|---|---|---|---|---|---|---|---|---|---|\n| 1                      | 1                      | 41                     | Female                 | Single                 | Sales                  | Sales Executive        | 5993                   | Yes                    | Life Sciences          | ...                    | 3                      | 11                     | 0                      | 0                      |  8                     | 8                      |  6                     | 4                      | 0                      | 5                      |\n| 0                      | 2                      | 49                     | Male                   | Married                | Research & Development | Research Scientist     | 5130                   | No                     | Life Sciences          | ...                    | 4                      | 23                     | 1                      | 3                      | 10                     | 1                      | 10                     | 7                      | 1                      | 7                      |\n| 1                      | 4                      | 37                     | Male                   | Single                 | Research & Development | Laboratory Technician  | 2090                   | Yes                    | Other                  | ...                    | 3                      | 15                     | 0                      | 3                      |  7                     | 6                      |  0                     | 0                      | 0                      | 0                      |\n| 0                      | 5                      | 33                     | Female                 | Married                | Research & Development | Research Scientist     | 2909                   | Yes                    | Life Sciences          | ...                    | 3                      | 11                     | 0                      | 3                      |  8                     | 1                      |  8                     | 7                      | 3                      | 0                      |\n| 0                      | 7                      | 27                     | Male                   | Married                | Research & Development | Laboratory Technician  | 3468                   | No                     | Medical                | ...                    | 3                      | 12                     | 1                      | 3                      |  6                     | 9                      |  2                     | 2                      | 2                      | 2                      |\n| 0                      | 8                      | 32                     | Male                   | Single                 | Research & Development | Laboratory Technician  | 3068                   | No                     | Life Sciences          | ...                    | 3                      | 13                     | 0                      | 2                      |  8                     | 0                      |  7                     | 7                      | 3                      | 6                      |\n\n",
            "text/plain": [
              "  Attrition EmployeeNumber Age Gender MaritalStatus Department            \n",
              "1 1         1              41  Female Single        Sales                 \n",
              "2 0         2              49  Male   Married       Research & Development\n",
              "3 1         4              37  Male   Single        Research & Development\n",
              "4 0         5              33  Female Married       Research & Development\n",
              "5 0         7              27  Male   Married       Research & Development\n",
              "6 0         8              32  Male   Single        Research & Development\n",
              "  JobRole               MonthlyIncome OverTime EducationField ...\n",
              "1 Sales Executive       5993          Yes      Life Sciences  ...\n",
              "2 Research Scientist    5130          No       Life Sciences  ...\n",
              "3 Laboratory Technician 2090          Yes      Other          ...\n",
              "4 Research Scientist    2909          Yes      Life Sciences  ...\n",
              "5 Laboratory Technician 3468          No       Medical        ...\n",
              "6 Laboratory Technician 3068          No       Life Sciences  ...\n",
              "  PerformanceRating PercentSalaryHike StockOptionLevel TrainingTimesLastYear\n",
              "1 3                 11                0                0                    \n",
              "2 4                 23                1                3                    \n",
              "3 3                 15                0                3                    \n",
              "4 3                 11                0                3                    \n",
              "5 3                 12                1                3                    \n",
              "6 3                 13                0                2                    \n",
              "  TotalWorkingYears NumCompaniesWorked YearsAtCompany YearsInCurrentRole\n",
              "1  8                8                   6             4                 \n",
              "2 10                1                  10             7                 \n",
              "3  7                6                   0             0                 \n",
              "4  8                1                   8             7                 \n",
              "5  6                9                   2             2                 \n",
              "6  8                0                   7             7                 \n",
              "  YearsSinceLastPromotion YearsWithCurrManager\n",
              "1 0                       5                   \n",
              "2 1                       7                   \n",
              "3 0                       0                   \n",
              "4 3                       0                   \n",
              "5 2                       2                   \n",
              "6 3                       6                   "
            ]
          },
          "metadata": {
            "tags": []
          }
        }
      ]
    },
    {
      "cell_type": "code",
      "metadata": {
        "scrolled": false,
        "id": "TrXNmglilF8G",
        "outputId": "6f1de5a9-59e0-489d-b44d-cb5881324a74"
      },
      "source": [
        "# Generate descriptive stats for each column.\n",
        "summary(hr_data)"
      ],
      "execution_count": null,
      "outputs": [
        {
          "output_type": "display_data",
          "data": {
            "text/plain": [
              "   Attrition      EmployeeNumber        Age           Gender     MaritalStatus\n",
              " Min.   :0.0000   Min.   :   1.0   Min.   :18.00   Female:588   Divorced:327  \n",
              " 1st Qu.:0.0000   1st Qu.: 491.2   1st Qu.:30.00   Male  :882   Married :673  \n",
              " Median :0.0000   Median :1020.5   Median :36.00                Single  :470  \n",
              " Mean   :0.1612   Mean   :1024.9   Mean   :36.92                              \n",
              " 3rd Qu.:0.0000   3rd Qu.:1555.8   3rd Qu.:43.00                              \n",
              " Max.   :1.0000   Max.   :2068.0   Max.   :60.00                              \n",
              "                                                                              \n",
              "                  Department                       JobRole    MonthlyIncome  \n",
              " Human Resources       : 63   Sales Executive          :326   Min.   : 1009  \n",
              " Research & Development:961   Research Scientist       :292   1st Qu.: 2911  \n",
              " Sales                 :446   Laboratory Technician    :259   Median : 4919  \n",
              "                              Manufacturing Director   :145   Mean   : 6503  \n",
              "                              Healthcare Representative:131   3rd Qu.: 8379  \n",
              "                              Manager                  :102   Max.   :19999  \n",
              "                              (Other)                  :215                  \n",
              " OverTime            EducationField           BusinessTravel DistanceFromHome\n",
              " No :1054   Human Resources : 27    Non-Travel       : 150   Min.   : 1.000  \n",
              " Yes: 416   Life Sciences   :606    Travel_Frequently: 277   1st Qu.: 2.000  \n",
              "            Marketing       :159    Travel_Rarely    :1043   Median : 7.000  \n",
              "            Medical         :464                             Mean   : 9.193  \n",
              "            Other           : 82                             3rd Qu.:14.000  \n",
              "            Technical Degree:132                             Max.   :29.000  \n",
              "                                                                             \n",
              "    JobLevel     JobInvolvement JobSatisfaction PerformanceRating\n",
              " Min.   :1.000   Min.   :1.00   Min.   :1.000   Min.   :3.000    \n",
              " 1st Qu.:1.000   1st Qu.:2.00   1st Qu.:2.000   1st Qu.:3.000    \n",
              " Median :2.000   Median :3.00   Median :3.000   Median :3.000    \n",
              " Mean   :2.064   Mean   :2.73   Mean   :2.729   Mean   :3.154    \n",
              " 3rd Qu.:3.000   3rd Qu.:3.00   3rd Qu.:4.000   3rd Qu.:3.000    \n",
              " Max.   :5.000   Max.   :4.00   Max.   :4.000   Max.   :4.000    \n",
              "                                                                 \n",
              " PercentSalaryHike StockOptionLevel TrainingTimesLastYear TotalWorkingYears\n",
              " Min.   :11.00     Min.   :0.0000   Min.   :0.000         Min.   : 0.00    \n",
              " 1st Qu.:12.00     1st Qu.:0.0000   1st Qu.:2.000         1st Qu.: 6.00    \n",
              " Median :14.00     Median :1.0000   Median :3.000         Median :10.00    \n",
              " Mean   :15.21     Mean   :0.7939   Mean   :2.799         Mean   :11.28    \n",
              " 3rd Qu.:18.00     3rd Qu.:1.0000   3rd Qu.:3.000         3rd Qu.:15.00    \n",
              " Max.   :25.00     Max.   :3.0000   Max.   :6.000         Max.   :40.00    \n",
              "                                                                           \n",
              " NumCompaniesWorked YearsAtCompany   YearsInCurrentRole YearsSinceLastPromotion\n",
              " Min.   :0.000      Min.   : 0.000   Min.   : 0.000     Min.   : 0.000         \n",
              " 1st Qu.:1.000      1st Qu.: 3.000   1st Qu.: 2.000     1st Qu.: 0.000         \n",
              " Median :2.000      Median : 5.000   Median : 3.000     Median : 1.000         \n",
              " Mean   :2.693      Mean   : 7.008   Mean   : 4.229     Mean   : 2.188         \n",
              " 3rd Qu.:4.000      3rd Qu.: 9.000   3rd Qu.: 7.000     3rd Qu.: 3.000         \n",
              " Max.   :9.000      Max.   :40.000   Max.   :18.000     Max.   :15.000         \n",
              "                                                                               \n",
              " YearsWithCurrManager\n",
              " Min.   : 0.000      \n",
              " 1st Qu.: 2.000      \n",
              " Median : 3.000      \n",
              " Mean   : 4.123      \n",
              " 3rd Qu.: 7.000      \n",
              " Max.   :17.000      \n",
              "                     "
            ]
          },
          "metadata": {
            "tags": []
          }
        }
      ]
    },
    {
      "cell_type": "markdown",
      "metadata": {
        "id": "KgGOv3UJlF8K"
      },
      "source": [
        "### PART 2: GRAPH THE DATASET\n",
        "\n",
        "Prior to building a predictive model, we graph the dataset to better understand attrition and to answer several questions that have been posed by management.  The graphs below are organized by those questions, which are the following:\n",
        "\n",
        "- Q1: \"Does one gender tend to quit more frequently than the other?\"\n",
        "- Q2: \"Does age appear to make a difference?  Are our younger workers less committed to our company?\"\n",
        "- Q3: \"Are we working our employees too hard? Is our overtime requirement for some employees driving them away?\"\n",
        "- Q4: \"Is this about money? Are we not paying employees enough? Were the raises not strong enough? Is that why they leave?\"\n",
        "- Q5: \"Our concern is that the highest performing employees are leaving at a higher rate. Is that true?\""
      ]
    },
    {
      "cell_type": "markdown",
      "metadata": {
        "id": "Tbx_ZpQ_lF8K"
      },
      "source": [
        "#### QUESTION #1:  \"Does one gender tend to quit more frequently than the other?\"\n",
        "\n",
        "Based on the charts below, there does NOT appear to be significant differences in attrition based on gender.  Even though a higher *number* of male employees left the company (the first chart), this should be offset by the fact that we have more male employees than female employees.  We would do better to review the attrition *percentage* by gender (the second chart).  Those percentages are nearly identical."
      ]
    },
    {
      "cell_type": "code",
      "metadata": {
        "id": "m2zPurYGlF8K",
        "outputId": "6ed2746b-d6ce-4f35-b61a-8dc91e417109"
      },
      "source": [
        "# Create a bar plot that counts employees by gender and attrition.\n",
        "ggplot(hr_data, aes(x = Gender, fill = factor(Attrition))) +\n",
        "    geom_bar() +\n",
        "    ggtitle(\"Attrition # by Gender\") +\n",
        "    scale_fill_manual(name = \"Quit?\", labels = c(\"No\", \"Yes\"), values = c(\"#A9A9A9\", \"#FF726F\")) + \n",
        "    ylab(\"# of Employees\")\n",
        "\n",
        "# Create a bar plot that shows % attrition by  gender.\n",
        "ggplot(hr_data, aes(x = Gender, fill = factor(Attrition))) +\n",
        "    geom_bar(position = \"fill\") +\n",
        "    ggtitle(\"Attrition % by Gender\") +\n",
        "    scale_fill_manual(name = \"Quit?\", labels = c(\"No\", \"Yes\"), values = c(\"#A9A9A9\", \"#FF726F\")) + \n",
        "    ylab(\"% Attrition\")"
      ],
      "execution_count": null,
      "outputs": [
        {
          "output_type": "display_data",
          "data": {
            "image/png": "[encoded data removed]",
            "text/plain": [
              "plot without title"
            ]
          },
          "metadata": {
            "tags": []
          }
        },
        {
          "output_type": "display_data",
          "data": {
            "image/png": "[encoded data removed]",
            "text/plain": [
              "plot without title"
            ]
          },
          "metadata": {
            "tags": []
          }
        }
      ]
    },
    {
      "cell_type": "markdown",
      "metadata": {
        "id": "OH0IPg1XlF8Q"
      },
      "source": [
        "#### QUESTION #2:  \"Does age appear to make a difference?  Are our younger workers less committed to our company?\"\n",
        "\n",
        "Based on the charts below, it appears that younger employees tend to leave at higher rates.  However, we CANNOT say that this is caused by younger employees being less committed to the company.  More research would be needed to make this determination."
      ]
    },
    {
      "cell_type": "code",
      "metadata": {
        "id": "1s5fht60lF8Q",
        "outputId": "238aa180-aa50-49ef-95a5-61adeb3da5fe"
      },
      "source": [
        "# Create an area chart that counts employees by age and attrition.\n",
        "ggplot(hr_data, aes(x = Age)) +\n",
        "    geom_area(aes(fill = factor(Attrition)), stat=\"bin\", binwidth=1) + \n",
        "    ggtitle(\"Attrition # by Age\") +\n",
        "    scale_fill_manual(name = \"Quit?\", labels = c(\"No\", \"Yes\"), values = c(\"#A9A9A9\", \"#FF726F\")) + \n",
        "    ylab(\"# of Employees\")\n",
        "\n",
        "# Create a bar plot that shows % attrition by age.\n",
        "ggplot(hr_data, aes(x=Age, fill = factor(Attrition))) +\n",
        "    geom_histogram(binwidth=3, position='fill') + \n",
        "    ggtitle(\"Attrition % by Age\") +\n",
        "    scale_fill_manual(name = \"Quit?\", labels = c(\"No\", \"Yes\"), values = c(\"#A9A9A9\", \"#FF726F\")) + \n",
        "    ylab(\"% Attrition\")\n",
        "\n",
        "# Create a box plot to show the distribution of ages by attrition status.\n",
        "ggplot(hr_data, aes(x = factor(Attrition), y = Age)) + \n",
        "    geom_boxplot(aes(fill = factor(Attrition))) +\n",
        "    ggtitle(\"Attrition by Age (boxplot)\") +\n",
        "    scale_fill_manual(name = \"Quit?\", labels = c(\"No\", \"Yes\"), values = c(\"#A9A9A9\", \"#FF726F\")) + \n",
        "    xlab(\"Attrition\")"
      ],
      "execution_count": null,
      "outputs": [
        {
          "output_type": "display_data",
          "data": {
            "image/png": "[encoded data removed]",
            "text/plain": [
              "plot without title"
            ]
          },
          "metadata": {
            "tags": []
          }
        },
        {
          "output_type": "display_data",
          "data": {
            "image/png": "[encoded data removed]",
            "text/plain": [
              "plot without title"
            ]
          },
          "metadata": {
            "tags": []
          }
        },
        {
          "output_type": "display_data",
          "data": {
            "image/png": "[encoded data removed]",
            "text/plain": [
              "plot without title"
            ]
          },
          "metadata": {
            "tags": []
          }
        }
      ]
    },
    {
      "cell_type": "markdown",
      "metadata": {
        "id": "QTzvfX00lF8T"
      },
      "source": [
        "#### QUESTION #3:  \"Are we working our employees too hard?  Is our overtime requirement for some employees driving them away?\"\n",
        "\n",
        "Based on the chart below, those employees who are required to work overtime DO tend to leave at higher rates.  However, more research would be needed to determine whether or not this is the actual cause of their departure.  There appears to be some relationship, though. between overtime requirements and attrition."
      ]
    },
    {
      "cell_type": "code",
      "metadata": {
        "id": "WJsfixbKlF8T",
        "outputId": "4f5f020d-de69-4a88-8300-37d010658052"
      },
      "source": [
        "# Create a bar plot that counts employees by overtime requirement and attrition.\n",
        "ggplot(hr_data, aes(x=OverTime, fill = factor(Attrition))) +\n",
        "    geom_bar() +\n",
        "    ggtitle(\"Attrition # by Overtime Requirement\") +\n",
        "    scale_fill_manual(name = \"Quit?\", labels = c(\"No\", \"Yes\"), values = c(\"#A9A9A9\", \"#FF726F\")) + \n",
        "    ylab(\"# of Employees\")\n",
        "\n",
        "# Create a bar plot that shows % attrition by overtime requirement.\n",
        "ggplot(hr_data, aes(x=OverTime, fill = factor(Attrition))) +\n",
        "    geom_bar(position = \"fill\") +\n",
        "    ggtitle(\"Attrition % by Overtime Requirement\") +\n",
        "    scale_fill_manual(name = \"Quit?\", labels = c(\"No\", \"Yes\"), values = c(\"#A9A9A9\", \"#FF726F\")) + \n",
        "    ylab(\"% Attrition\")"
      ],
      "execution_count": null,
      "outputs": [
        {
          "output_type": "display_data",
          "data": {
            "image/png": "[encoded data removed]",
            "text/plain": [
              "plot without title"
            ]
          },
          "metadata": {
            "tags": []
          }
        },
        {
          "output_type": "display_data",
          "data": {
            "image/png": "[encoded data removed]",
            "text/plain": [
              "plot without title"
            ]
          },
          "metadata": {
            "tags": []
          }
        }
      ]
    },
    {
      "cell_type": "markdown",
      "metadata": {
        "id": "NygVVjhMlF8W"
      },
      "source": [
        "#### QUESTION #4: \"Is this about money?  Are we not paying employees enough?  Were the raises not strong enough?  Is that why they leave?\"\n",
        "\n",
        "Based on the chart, it appears that employees who get paid less tend to leave at higher rates.  There appears to be at least some correlation between income and attrition.  (Correlation, not necessarily causation.)"
      ]
    },
    {
      "cell_type": "code",
      "metadata": {
        "id": "6ZMwlzUYlF8W",
        "outputId": "e1e5926b-4398-4bdf-b3dc-18ab79f181ad"
      },
      "source": [
        "# Create an area chart that counts employees by monthly income and attrition.\n",
        "ggplot(hr_data,aes(x = MonthlyIncome)) +\n",
        "    geom_area(aes(fill = factor(Attrition)), stat=\"bin\", binwidth=500) +\n",
        "    ggtitle(\"Attrition # by Monthly Income\") +\n",
        "    scale_fill_manual(name = \"Quit?\", labels = c(\"No\", \"Yes\"), values = c(\"#A9A9A9\", \"#FF726F\")) + \n",
        "    ylab(\"# of Employees\")\n",
        "\n",
        "# Create a histogram that shows % attrition by monthly income.\n",
        "ggplot(hr_data, aes(x = MonthlyIncome, fill = factor(Attrition))) +\n",
        "    geom_histogram(binwidth = 1000, position = \"fill\") +\n",
        "    ggtitle(\"Attrition % by Monthly Income\") +\n",
        "    scale_fill_manual(name = \"Quit?\", labels = c(\"No\", \"Yes\"), values = c(\"#A9A9A9\", \"#FF726F\")) +  \n",
        "    ylab(\"% Attrition\")\n",
        "\n",
        "# Create a box plot to show the distribution of monthly income by attrition status.\n",
        "ggplot(hr_data, aes(x = factor(Attrition), y = MonthlyIncome)) + \n",
        "    geom_boxplot(aes(fill = factor(Attrition))) +\n",
        "    ggtitle(\"Attrition by MonthlyIncome (boxplot)\") +\n",
        "    scale_fill_manual(name = \"Quit?\", labels = c(\"No\", \"Yes\"), values = c(\"#A9A9A9\", \"#FF726F\")) + \n",
        "    xlab(\"Attrition\")"
      ],
      "execution_count": null,
      "outputs": [
        {
          "output_type": "display_data",
          "data": {
            "image/png": "[encoded data removed]",
            "text/plain": [
              "plot without title"
            ]
          },
          "metadata": {
            "tags": []
          }
        },
        {
          "output_type": "display_data",
          "data": {
            "image/png": "[encoded data removed]",
            "text/plain": [
              "plot without title"
            ]
          },
          "metadata": {
            "tags": []
          }
        },
        {
          "output_type": "display_data",
          "data": {
            "image/png": "[encoded data removed]",
            "text/plain": [
              "plot without title"
            ]
          },
          "metadata": {
            "tags": []
          }
        }
      ]
    },
    {
      "cell_type": "markdown",
      "metadata": {
        "id": "MAWe2RfklF8Z"
      },
      "source": [
        "#### QUESTION #5:  \"Our concern is that the highest performing employees are leaving at a higher rate.  Is that true?\"\n",
        "\n",
        "The scope of performance rating data was limited, but based on the attrition when comparing the two performance ratings, it would NOT appear that our higher-performing employees are leaving at a higher rate.  Even though a higher *number* of employers with lower ratings left the company (the first chart), this should be offset by the fact that we have more employees (many more) that received a lower performance rating (3).  We would do better to review the attrition *percentage* by performance rating (the second chart).  Those percentages are nearly identical."
      ]
    },
    {
      "cell_type": "code",
      "metadata": {
        "id": "x3qGQU25lF8Z",
        "outputId": "3a0c9bc0-ba1d-43fd-d2f9-fe1d3c95995b"
      },
      "source": [
        "# Create a bar plot that counts employees by performance rating and attrition.\n",
        "ggplot(hr_data, aes(x=factor(PerformanceRating), fill = factor(Attrition))) +\n",
        "    geom_bar() +\n",
        "    ggtitle(\"Attrition # by Performance Rating\") +\n",
        "    scale_fill_manual(name = \"Quit?\", labels = c(\"No\", \"Yes\"), values = c(\"#A9A9A9\", \"#FF726F\")) + \n",
        "    xlab(\"Performance Rating\") + ylab(\"# of Employees\")\n",
        "\n",
        "# Create a bar plot that shows % attrition by performance rating.\n",
        "ggplot(hr_data, aes(x=factor(PerformanceRating), fill = factor(Attrition))) +\n",
        "    geom_bar(position = \"fill\") +\n",
        "    ggtitle(\"Attrition % by Performance Rating\") +\n",
        "    scale_fill_manual(name = \"Quit?\", labels = c(\"No\", \"Yes\"), values = c(\"#A9A9A9\", \"#FF726F\")) + \n",
        "    xlab(\"Performance Rating\") + ylab(\"% Attrition\")"
      ],
      "execution_count": null,
      "outputs": [
        {
          "output_type": "display_data",
          "data": {
            "image/png": "[encoded data removed]",
            "text/plain": [
              "plot without title"
            ]
          },
          "metadata": {
            "tags": []
          }
        },
        {
          "output_type": "display_data",
          "data": {
            "image/png": "[encoded data removed]",
            "text/plain": [
              "plot without title"
            ]
          },
          "metadata": {
            "tags": []
          }
        }
      ]
    },
    {
      "cell_type": "markdown",
      "metadata": {
        "id": "E_iV6rLzlF8b"
      },
      "source": [
        "#### ADDITIONAL GRAPH: Showing the correlation between numeric variables.\n",
        "\n",
        "Next, we want to evaluate the relationship that exists between our fields (columns) in the dataset -- their relationship to attrition (which we are trying to predict) and their relationship to each other.  The value for correlation is always between -1 and 1.  As the correlation gets closer to -1 or 1, the relationships between variables becomes stronger.  As it gets closer to 0, it becomes weaker.  This helps us (1) determine what might be highly correlation with attrition and (2) what might be highly correlated with another variable and thus duplicative.  This evaluation is important before we build our model.\n",
        "\n",
        "Based on the results showing in our correlation matrix, most variables have a weak, negative relationship with attrition.  (The light blue color.)  In other words, as those values decrease, attrition probability tends to slightly increase."
      ]
    },
    {
      "cell_type": "code",
      "metadata": {
        "id": "KNaWXH0clF8c",
        "outputId": "9cf836b7-d089-4029-863b-78fd72ec94d7"
      },
      "source": [
        "# Calculate the correlation between numeric variables.\n",
        "cor = cor(hr_data[c(1,3,8,12:25)])\n",
        "\n",
        "# Plot the correlations on a matrix.  (Adjust/restore the default chart size.)\n",
        "options(repr.plot.width=7, repr.plot.height=5)\n",
        "ggcorrplot(cor, type=\"lower\", tl.cex = 9)\n",
        "options(repr.plot.width=3.5, repr.plot.height=3)"
      ],
      "execution_count": null,
      "outputs": [
        {
          "output_type": "display_data",
          "data": {
            "image/png": "[encoded data removed]",
            "text/plain": [
              "plot without title"
            ]
          },
          "metadata": {
            "tags": []
          }
        }
      ]
    },
    {
      "cell_type": "markdown",
      "metadata": {
        "id": "Bws6WtjVlF8e"
      },
      "source": [
        "### Part 3: Prepare the data for modeling.\n",
        "\n",
        "Prior to building our predictive model, we need to prep the data.  We first need to see if any rows in our dataset have missing values (as some machine learning algorithms need complete data in each row).  Next, we need to split our data into a training set (that will be used to build our model) and a test set (that will be used to evaluate how the model performs on real-world examples)."
      ]
    },
    {
      "cell_type": "code",
      "metadata": {
        "id": "BuH1ZsltlF8f",
        "outputId": "cd3dc5dd-a4a0-4520-8907-14570a99f394"
      },
      "source": [
        "# Determine if missing values exist.  If so, address them.\n",
        "sum(is.na(hr_data))\n",
        "# hr_code_clean <- na.omit(hr_data)"
      ],
      "execution_count": null,
      "outputs": [
        {
          "output_type": "display_data",
          "data": {
            "text/html": [
              "0"
            ],
            "text/latex": "0",
            "text/markdown": "0",
            "text/plain": [
              "[1] 0"
            ]
          },
          "metadata": {
            "tags": []
          }
        }
      ]
    },
    {
      "cell_type": "code",
      "metadata": {
        "id": "Tcr1Mi9GlF8h"
      },
      "source": [
        "# Split the dataset into a training and test set.\n",
        "set.seed(3456)\n",
        "trainIndex <- createDataPartition(hr_data$Attrition, p = .8, list = FALSE, times = 1)\n",
        "hr_train <- hr_data[ trainIndex,]\n",
        "hr_test  <- hr_data[-trainIndex,]"
      ],
      "execution_count": null,
      "outputs": []
    },
    {
      "cell_type": "markdown",
      "metadata": {
        "id": "V7F4IFk4lF8k"
      },
      "source": [
        "### Part 4: Build and evaluate a model to predict attrition.\n",
        "\n",
        "At this point, we can now begin to build and evaluate a model that will be used to make our attrition predictions.  We will use logistic regression to do so.  Once we build our model, we will evaluate how well it performs using the area under the ROC curve (AUC) -- a common evaluation technique in classification."
      ]
    },
    {
      "cell_type": "code",
      "metadata": {
        "id": "NxDOkXhRlF8l",
        "outputId": "c95c7ca5-7fff-499d-ad6c-24bd0a91308d"
      },
      "source": [
        "# Buid a model using logistic regression with all independent variables.\n",
        "hr_model_lr_1 <- glm(Attrition ~ ., data=hr_train, family=binomial)\n",
        "summary(hr_model_lr_1)"
      ],
      "execution_count": null,
      "outputs": [
        {
          "output_type": "display_data",
          "data": {
            "text/plain": [
              "\n",
              "Call:\n",
              "glm(formula = Attrition ~ ., family = binomial, data = hr_train)\n",
              "\n",
              "Deviance Residuals: \n",
              "    Min       1Q   Median       3Q      Max  \n",
              "-1.6846  -0.5176  -0.2854  -0.0960   3.3513  \n",
              "\n",
              "Coefficients:\n",
              "                                   Estimate Std. Error z value Pr(>|z|)    \n",
              "(Intercept)                      -1.264e+01  4.206e+02  -0.030  0.97603    \n",
              "EmployeeNumber                   -1.498e-04  1.612e-04  -0.929  0.35278    \n",
              "Age                              -3.669e-02  1.448e-02  -2.534  0.01127 *  \n",
              "GenderMale                        4.078e-01  1.954e-01   2.087  0.03689 *  \n",
              "MaritalStatusMarried              1.889e-01  2.836e-01   0.666  0.50532    \n",
              "MaritalStatusSingle               9.045e-01  3.658e-01   2.473  0.01341 *  \n",
              "DepartmentResearch & Development  1.232e+01  4.206e+02   0.029  0.97662    \n",
              "DepartmentSales                   1.206e+01  4.206e+02   0.029  0.97713    \n",
              "JobRoleHuman Resources            1.336e+01  4.206e+02   0.032  0.97467    \n",
              "JobRoleLaboratory Technician      1.383e+00  4.938e-01   2.802  0.00508 ** \n",
              "JobRoleManager                   -1.934e-02  1.014e+00  -0.019  0.98479    \n",
              "JobRoleManufacturing Director    -1.519e-01  5.758e-01  -0.264  0.79193    \n",
              "JobRoleResearch Director         -1.102e+00  1.031e+00  -1.069  0.28493    \n",
              "JobRoleResearch Scientist         3.378e-01  5.095e-01   0.663  0.50726    \n",
              "JobRoleSales Executive            1.148e+00  1.405e+00   0.817  0.41395    \n",
              "JobRoleSales Representative       1.798e+00  1.457e+00   1.234  0.21725    \n",
              "MonthlyIncome                    -7.626e-06  8.572e-05  -0.089  0.92911    \n",
              "OverTimeYes                       1.734e+00  1.993e-01   8.702  < 2e-16 ***\n",
              "EducationFieldLife Sciences      -5.413e-01  8.591e-01  -0.630  0.52862    \n",
              "EducationFieldMarketing          -1.742e-01  9.155e-01  -0.190  0.84909    \n",
              "EducationFieldMedical            -6.510e-01  8.601e-01  -0.757  0.44913    \n",
              "EducationFieldOther              -5.142e-01  9.217e-01  -0.558  0.57696    \n",
              "EducationFieldTechnical Degree    1.992e-01  8.908e-01   0.224  0.82307    \n",
              "BusinessTravelTravel_Frequently   1.710e+00  4.350e-01   3.931 8.46e-05 ***\n",
              "BusinessTravelTravel_Rarely       1.013e+00  4.043e-01   2.504  0.01227 *  \n",
              "DistanceFromHome                  4.647e-02  1.153e-02   4.030 5.58e-05 ***\n",
              "JobLevel                         -9.956e-02  3.367e-01  -0.296  0.76750    \n",
              "JobInvolvement                   -5.131e-01  1.305e-01  -3.930 8.48e-05 ***\n",
              "JobSatisfaction                  -3.885e-01  8.654e-02  -4.489 7.16e-06 ***\n",
              "PerformanceRating                 2.532e-01  4.313e-01   0.587  0.55711    \n",
              "PercentSalaryHike                -2.789e-02  4.248e-02  -0.657  0.51144    \n",
              "StockOptionLevel                 -2.998e-01  1.684e-01  -1.780  0.07508 .  \n",
              "TrainingTimesLastYear            -2.116e-01  8.028e-02  -2.635  0.00840 ** \n",
              "TotalWorkingYears                -3.321e-02  3.196e-02  -1.039  0.29864    \n",
              "NumCompaniesWorked                1.873e-01  4.127e-02   4.539 5.64e-06 ***\n",
              "YearsAtCompany                    7.730e-02  4.096e-02   1.887  0.05915 .  \n",
              "YearsInCurrentRole               -1.431e-01  4.922e-02  -2.907  0.00365 ** \n",
              "YearsSinceLastPromotion           1.454e-01  4.436e-02   3.277  0.00105 ** \n",
              "YearsWithCurrManager             -1.281e-01  5.010e-02  -2.557  0.01056 *  \n",
              "---\n",
              "Signif. codes:  0 '***' 0.001 '**' 0.01 '*' 0.05 '.' 0.1 ' ' 1\n",
              "\n",
              "(Dispersion parameter for binomial family taken to be 1)\n",
              "\n",
              "    Null deviance: 1078.81  on 1175  degrees of freedom\n",
              "Residual deviance:  741.32  on 1137  degrees of freedom\n",
              "AIC: 819.32\n",
              "\n",
              "Number of Fisher Scoring iterations: 14\n"
            ]
          },
          "metadata": {
            "tags": []
          }
        }
      ]
    },
    {
      "cell_type": "markdown",
      "metadata": {
        "id": "m5oMTXVklF8n"
      },
      "source": [
        "**Based on the output of our initial logistic regression model (shown above), which includes all possible independent variables, we can make decisions about which variables to remove.**  (A simple model is easier to understand and is less likely to \"overfit\" the training data.)  We can remove those variables which are NOT statistically significant.  In other words, the ones that have a p-value greater than 0.5.  (See the \"Pr(>|z|)\" column above.)"
      ]
    },
    {
      "cell_type": "code",
      "metadata": {
        "id": "qgEqHP6GlF8n",
        "outputId": "eb78ff0f-2335-43b3-df1c-0dd2db3743b6"
      },
      "source": [
        "# Buid a model using logistic regression with only statistically-significant variables.\n",
        "hr_model_lr_2 <- glm(Attrition ~ \n",
        "                     Age + \n",
        "                     BusinessTravel + \n",
        "                     DistanceFromHome + \n",
        "                     Gender + \n",
        "                     JobInvolvement + \n",
        "                     JobRole + \n",
        "                     JobSatisfaction +\n",
        "                     MaritalStatus + \n",
        "                     NumCompaniesWorked + \n",
        "                     OverTime + \n",
        "                     TrainingTimesLastYear + \n",
        "                     YearsInCurrentRole +\n",
        "                     YearsSinceLastPromotion +\n",
        "                     YearsWithCurrManager,\n",
        "                   data=hr_train, family=binomial)\n",
        "summary(hr_model_lr_2)"
      ],
      "execution_count": null,
      "outputs": [
        {
          "output_type": "display_data",
          "data": {
            "text/plain": [
              "\n",
              "Call:\n",
              "glm(formula = Attrition ~ Age + BusinessTravel + DistanceFromHome + \n",
              "    Gender + JobInvolvement + JobRole + JobSatisfaction + MaritalStatus + \n",
              "    NumCompaniesWorked + OverTime + TrainingTimesLastYear + YearsInCurrentRole + \n",
              "    YearsSinceLastPromotion + YearsWithCurrManager, family = binomial, \n",
              "    data = hr_train)\n",
              "\n",
              "Deviance Residuals: \n",
              "    Min       1Q   Median       3Q      Max  \n",
              "-1.7521  -0.5367  -0.2913  -0.1097   3.7687  \n",
              "\n",
              "Coefficients:\n",
              "                                Estimate Std. Error z value Pr(>|z|)    \n",
              "(Intercept)                     -0.93978    0.86650  -1.085 0.278112    \n",
              "Age                             -0.04605    0.01239  -3.716 0.000203 ***\n",
              "BusinessTravelTravel_Frequently  1.69051    0.42460   3.981 6.85e-05 ***\n",
              "BusinessTravelTravel_Rarely      1.00217    0.39430   2.542 0.011034 *  \n",
              "DistanceFromHome                 0.04232    0.01120   3.777 0.000159 ***\n",
              "GenderMale                       0.39752    0.19249   2.065 0.038914 *  \n",
              "JobInvolvement                  -0.52415    0.12622  -4.153 3.29e-05 ***\n",
              "JobRoleHuman Resources           1.52851    0.57454   2.660 0.007804 ** \n",
              "JobRoleLaboratory Technician     1.54061    0.43208   3.566 0.000363 ***\n",
              "JobRoleManager                  -0.38568    0.74325  -0.519 0.603822    \n",
              "JobRoleManufacturing Director   -0.16248    0.56773  -0.286 0.774734    \n",
              "JobRoleResearch Director        -1.12761    0.89128  -1.265 0.205815    \n",
              "JobRoleResearch Scientist        0.57895    0.43848   1.320 0.186714    \n",
              "JobRoleSales Executive           1.05534    0.42486   2.484 0.012992 *  \n",
              "JobRoleSales Representative      1.88222    0.50514   3.726 0.000194 ***\n",
              "JobSatisfaction                 -0.39391    0.08437  -4.669 3.03e-06 ***\n",
              "MaritalStatusMarried             0.30452    0.26537   1.148 0.251170    \n",
              "MaritalStatusSingle              1.29409    0.27100   4.775 1.80e-06 ***\n",
              "NumCompaniesWorked               0.15932    0.03879   4.107 4.00e-05 ***\n",
              "OverTimeYes                      1.71664    0.19694   8.716  < 2e-16 ***\n",
              "TrainingTimesLastYear           -0.20846    0.07810  -2.669 0.007604 ** \n",
              "YearsInCurrentRole              -0.11398    0.04532  -2.515 0.011901 *  \n",
              "YearsSinceLastPromotion          0.17324    0.04078   4.248 2.16e-05 ***\n",
              "YearsWithCurrManager            -0.09630    0.04451  -2.164 0.030501 *  \n",
              "---\n",
              "Signif. codes:  0 '***' 0.001 '**' 0.01 '*' 0.05 '.' 0.1 ' ' 1\n",
              "\n",
              "(Dispersion parameter for binomial family taken to be 1)\n",
              "\n",
              "    Null deviance: 1078.81  on 1175  degrees of freedom\n",
              "Residual deviance:  758.62  on 1152  degrees of freedom\n",
              "AIC: 806.62\n",
              "\n",
              "Number of Fisher Scoring iterations: 6\n"
            ]
          },
          "metadata": {
            "tags": []
          }
        }
      ]
    },
    {
      "cell_type": "markdown",
      "metadata": {
        "id": "8gqaiyBRlF8q"
      },
      "source": [
        "**After the update to the model, we still have a long list of variables.  We would like to reduce it further, if possible, without significantally hindering the model's predictive power.** So, next, we will use an R function (\"varImp\") that shows us how important each variable is within the model.  We can explore removing variables that are less important than others."
      ]
    },
    {
      "cell_type": "code",
      "metadata": {
        "scrolled": false,
        "id": "WWummQRjlF8r",
        "outputId": "d262b64a-3673-447d-b8bc-a1e78cce63f5"
      },
      "source": [
        "# Evaluate the importance of independent variables that remain.\n",
        "importance <- as.data.frame(varImp(hr_model_lr_2))\n",
        "importance <- data.frame(Importance = importance$Overall, Field = rownames(importance))\n",
        "importance <- importance[order(-importance$Importance),]\n",
        "importance"
      ],
      "execution_count": null,
      "outputs": [
        {
          "output_type": "display_data",
          "data": {
            "text/html": [
              "<table>\n",
              "<thead><tr><th></th><th scope=col>Importance</th><th scope=col>Field</th></tr></thead>\n",
              "<tbody>\n",
              "\t<tr><th scope=row>19</th><td>8.7163514                      </td><td>OverTimeYes                    </td></tr>\n",
              "\t<tr><th scope=row>17</th><td>4.7752031                      </td><td>MaritalStatusSingle            </td></tr>\n",
              "\t<tr><th scope=row>15</th><td>4.6690421                      </td><td>JobSatisfaction                </td></tr>\n",
              "\t<tr><th scope=row>22</th><td>4.2480250                      </td><td>YearsSinceLastPromotion        </td></tr>\n",
              "\t<tr><th scope=row>6</th><td>4.1525497                      </td><td>JobInvolvement                 </td></tr>\n",
              "\t<tr><th scope=row>18</th><td>4.1074045                      </td><td>NumCompaniesWorked             </td></tr>\n",
              "\t<tr><th scope=row>2</th><td>3.9814357                      </td><td>BusinessTravelTravel_Frequently</td></tr>\n",
              "\t<tr><th scope=row>4</th><td>3.7771078                      </td><td>DistanceFromHome               </td></tr>\n",
              "\t<tr><th scope=row>14</th><td>3.7261602                      </td><td>JobRoleSales Representative    </td></tr>\n",
              "\t<tr><th scope=row>1</th><td>3.7156271                      </td><td>Age                            </td></tr>\n",
              "\t<tr><th scope=row>8</th><td>3.5655862                      </td><td>JobRoleLaboratory Technician   </td></tr>\n",
              "\t<tr><th scope=row>20</th><td>2.6691765                      </td><td>TrainingTimesLastYear          </td></tr>\n",
              "\t<tr><th scope=row>7</th><td>2.6604294                      </td><td>JobRoleHuman Resources         </td></tr>\n",
              "\t<tr><th scope=row>3</th><td>2.5416190                      </td><td>BusinessTravelTravel_Rarely    </td></tr>\n",
              "\t<tr><th scope=row>21</th><td>2.5150790                      </td><td>YearsInCurrentRole             </td></tr>\n",
              "\t<tr><th scope=row>13</th><td>2.4839880                      </td><td>JobRoleSales Executive         </td></tr>\n",
              "\t<tr><th scope=row>23</th><td>2.1635194                      </td><td>YearsWithCurrManager           </td></tr>\n",
              "\t<tr><th scope=row>5</th><td>2.0650957                      </td><td>GenderMale                     </td></tr>\n",
              "\t<tr><th scope=row>12</th><td>1.3203638                      </td><td>JobRoleResearch Scientist      </td></tr>\n",
              "\t<tr><th scope=row>11</th><td>1.2651565                      </td><td>JobRoleResearch Director       </td></tr>\n",
              "\t<tr><th scope=row>16</th><td>1.1475114                      </td><td>MaritalStatusMarried           </td></tr>\n",
              "\t<tr><th scope=row>9</th><td>0.5189124                      </td><td>JobRoleManager                 </td></tr>\n",
              "\t<tr><th scope=row>10</th><td>0.2861885                      </td><td>JobRoleManufacturing Director  </td></tr>\n",
              "</tbody>\n",
              "</table>\n"
            ],
            "text/latex": "\\begin{tabular}{r|ll}\n  & Importance & Field\\\\\n\\hline\n\t19 & 8.7163514                       & OverTimeYes                    \\\\\n\t17 & 4.7752031                       & MaritalStatusSingle            \\\\\n\t15 & 4.6690421                       & JobSatisfaction                \\\\\n\t22 & 4.2480250                       & YearsSinceLastPromotion        \\\\\n\t6 & 4.1525497                       & JobInvolvement                 \\\\\n\t18 & 4.1074045                       & NumCompaniesWorked             \\\\\n\t2 & 3.9814357                         & BusinessTravelTravel\\_Frequently\\\\\n\t4 & 3.7771078                       & DistanceFromHome               \\\\\n\t14 & 3.7261602                       & JobRoleSales Representative    \\\\\n\t1 & 3.7156271                       & Age                            \\\\\n\t8 & 3.5655862                       & JobRoleLaboratory Technician   \\\\\n\t20 & 2.6691765                       & TrainingTimesLastYear          \\\\\n\t7 & 2.6604294                       & JobRoleHuman Resources         \\\\\n\t3 & 2.5416190                         & BusinessTravelTravel\\_Rarely    \\\\\n\t21 & 2.5150790                       & YearsInCurrentRole             \\\\\n\t13 & 2.4839880                       & JobRoleSales Executive         \\\\\n\t23 & 2.1635194                       & YearsWithCurrManager           \\\\\n\t5 & 2.0650957                       & GenderMale                     \\\\\n\t12 & 1.3203638                       & JobRoleResearch Scientist      \\\\\n\t11 & 1.2651565                       & JobRoleResearch Director       \\\\\n\t16 & 1.1475114                       & MaritalStatusMarried           \\\\\n\t9 & 0.5189124                       & JobRoleManager                 \\\\\n\t10 & 0.2861885                       & JobRoleManufacturing Director  \\\\\n\\end{tabular}\n",
            "text/markdown": "\n| <!--/--> | Importance | Field |\n|---|---|---|\n| 19 | 8.7163514                       | OverTimeYes                     |\n| 17 | 4.7752031                       | MaritalStatusSingle             |\n| 15 | 4.6690421                       | JobSatisfaction                 |\n| 22 | 4.2480250                       | YearsSinceLastPromotion         |\n| 6 | 4.1525497                       | JobInvolvement                  |\n| 18 | 4.1074045                       | NumCompaniesWorked              |\n| 2 | 3.9814357                       | BusinessTravelTravel_Frequently |\n| 4 | 3.7771078                       | DistanceFromHome                |\n| 14 | 3.7261602                       | JobRoleSales Representative     |\n| 1 | 3.7156271                       | Age                             |\n| 8 | 3.5655862                       | JobRoleLaboratory Technician    |\n| 20 | 2.6691765                       | TrainingTimesLastYear           |\n| 7 | 2.6604294                       | JobRoleHuman Resources          |\n| 3 | 2.5416190                       | BusinessTravelTravel_Rarely     |\n| 21 | 2.5150790                       | YearsInCurrentRole              |\n| 13 | 2.4839880                       | JobRoleSales Executive          |\n| 23 | 2.1635194                       | YearsWithCurrManager            |\n| 5 | 2.0650957                       | GenderMale                      |\n| 12 | 1.3203638                       | JobRoleResearch Scientist       |\n| 11 | 1.2651565                       | JobRoleResearch Director        |\n| 16 | 1.1475114                       | MaritalStatusMarried            |\n| 9 | 0.5189124                       | JobRoleManager                  |\n| 10 | 0.2861885                       | JobRoleManufacturing Director   |\n\n",
            "text/plain": [
              "   Importance Field                          \n",
              "19 8.7163514  OverTimeYes                    \n",
              "17 4.7752031  MaritalStatusSingle            \n",
              "15 4.6690421  JobSatisfaction                \n",
              "22 4.2480250  YearsSinceLastPromotion        \n",
              "6  4.1525497  JobInvolvement                 \n",
              "18 4.1074045  NumCompaniesWorked             \n",
              "2  3.9814357  BusinessTravelTravel_Frequently\n",
              "4  3.7771078  DistanceFromHome               \n",
              "14 3.7261602  JobRoleSales Representative    \n",
              "1  3.7156271  Age                            \n",
              "8  3.5655862  JobRoleLaboratory Technician   \n",
              "20 2.6691765  TrainingTimesLastYear          \n",
              "7  2.6604294  JobRoleHuman Resources         \n",
              "3  2.5416190  BusinessTravelTravel_Rarely    \n",
              "21 2.5150790  YearsInCurrentRole             \n",
              "13 2.4839880  JobRoleSales Executive         \n",
              "23 2.1635194  YearsWithCurrManager           \n",
              "5  2.0650957  GenderMale                     \n",
              "12 1.3203638  JobRoleResearch Scientist      \n",
              "11 1.2651565  JobRoleResearch Director       \n",
              "16 1.1475114  MaritalStatusMarried           \n",
              "9  0.5189124  JobRoleManager                 \n",
              "10 0.2861885  JobRoleManufacturing Director  "
            ]
          },
          "metadata": {
            "tags": []
          }
        }
      ]
    },
    {
      "cell_type": "code",
      "metadata": {
        "id": "jUFN5veklF8t",
        "outputId": "23ea6eef-0895-4b7a-cd4c-aadcb7efa6e4"
      },
      "source": [
        "# Buid a model using logistic regression with the smallest subset of variables.\n",
        "hr_model_lr_2 <- glm(Attrition ~\n",
        "                     JobInvolvement +\n",
        "                     JobRole +\n",
        "                     JobSatisfaction +\n",
        "                     MaritalStatus + \n",
        "                     OverTime,\n",
        "                   data=hr_train, family=binomial)\n",
        "summary(hr_model_lr_2)"
      ],
      "execution_count": null,
      "outputs": [
        {
          "output_type": "display_data",
          "data": {
            "text/plain": [
              "\n",
              "Call:\n",
              "glm(formula = Attrition ~ JobInvolvement + JobRole + JobSatisfaction + \n",
              "    MaritalStatus + OverTime, family = binomial, data = hr_train)\n",
              "\n",
              "Deviance Residuals: \n",
              "    Min       1Q   Median       3Q      Max  \n",
              "-2.0834  -0.5923  -0.3662  -0.1907   3.0749  \n",
              "\n",
              "Coefficients:\n",
              "                              Estimate Std. Error z value Pr(>|z|)    \n",
              "(Intercept)                   -1.51195    0.53717  -2.815  0.00488 ** \n",
              "JobInvolvement                -0.45917    0.11784  -3.896 9.76e-05 ***\n",
              "JobRoleHuman Resources         1.66916    0.53337   3.129  0.00175 ** \n",
              "JobRoleLaboratory Technician   1.58656    0.40237   3.943 8.05e-05 ***\n",
              "JobRoleManager                -0.85397    0.70907  -1.204  0.22845    \n",
              "JobRoleManufacturing Director -0.25479    0.54264  -0.470  0.63869    \n",
              "JobRoleResearch Director      -1.04247    0.81777  -1.275  0.20239    \n",
              "JobRoleResearch Scientist      0.72938    0.41003   1.779  0.07527 .  \n",
              "JobRoleSales Executive         0.96785    0.40169   2.409  0.01598 *  \n",
              "JobRoleSales Representative    2.02442    0.46287   4.374 1.22e-05 ***\n",
              "JobSatisfaction               -0.34290    0.07872  -4.356 1.33e-05 ***\n",
              "MaritalStatusMarried           0.24211    0.25121   0.964  0.33515    \n",
              "MaritalStatusSingle            1.16213    0.25247   4.603 4.16e-06 ***\n",
              "OverTimeYes                    1.61435    0.18178   8.881  < 2e-16 ***\n",
              "---\n",
              "Signif. codes:  0 '***' 0.001 '**' 0.01 '*' 0.05 '.' 0.1 ' ' 1\n",
              "\n",
              "(Dispersion parameter for binomial family taken to be 1)\n",
              "\n",
              "    Null deviance: 1078.81  on 1175  degrees of freedom\n",
              "Residual deviance:  853.83  on 1162  degrees of freedom\n",
              "AIC: 881.83\n",
              "\n",
              "Number of Fisher Scoring iterations: 6\n"
            ]
          },
          "metadata": {
            "tags": []
          }
        }
      ]
    },
    {
      "cell_type": "markdown",
      "metadata": {
        "id": "uuAtDqMDlF8v"
      },
      "source": [
        "**Now that we have models constructed, we will make predictions in the test data using both models.  After that, we will compare the models using the area under the ROC curve (AUC).**  Assuming the performance of the models are close, we will elect to go with the simpler model."
      ]
    },
    {
      "cell_type": "code",
      "metadata": {
        "scrolled": false,
        "id": "Y7E7Ua7jlF8w",
        "outputId": "b2ef1ad2-437c-440a-ad69-595533e36447"
      },
      "source": [
        "# Make predictions in the test data using the model with all variables; preview a few records.\n",
        "hr_test$Attrition_prediction_lr_1 <- predict(hr_model_lr_1, newdata=hr_test, type='response')\n",
        "print(head(hr_test[c(\"Attrition\",\"Attrition_prediction_lr_1\")]))"
      ],
      "execution_count": null,
      "outputs": [
        {
          "output_type": "stream",
          "text": [
            "   Attrition Attrition_prediction_lr_1\n",
            "4          0               0.270775781\n",
            "9          0               0.084005782\n",
            "19         0               0.003907404\n",
            "20         0               0.355255955\n",
            "31         0               0.210267355\n",
            "32         0               0.058235933\n"
          ],
          "name": "stdout"
        }
      ]
    },
    {
      "cell_type": "code",
      "metadata": {
        "id": "Hs-65e6elF8y",
        "outputId": "f7a95a3c-df4f-4268-a82c-cc72da40662d"
      },
      "source": [
        "# Make predictions in the test data using the model with limited variables; preview a few records.\n",
        "hr_test$Attrition_prediction_lr_2 <- predict(hr_model_lr_2, newdata=hr_test, type='response')\n",
        "print(head(hr_test[c(\"Attrition\",\"Attrition_prediction_lr_2\")]))"
      ],
      "execution_count": null,
      "outputs": [
        {
          "output_type": "stream",
          "text": [
            "   Attrition Attrition_prediction_lr_2\n",
            "4          0                0.20877514\n",
            "9          0                0.07231510\n",
            "19         0                0.01196463\n",
            "20         0                0.31968803\n",
            "31         0                0.18058637\n",
            "32         0                0.08282201\n"
          ],
          "name": "stdout"
        }
      ]
    },
    {
      "cell_type": "code",
      "metadata": {
        "id": "WL_dmnCUlF80",
        "outputId": "51fddc7c-39f9-461f-d006-104c4cfcbc04"
      },
      "source": [
        "# Evaluate the logistic regression models.\n",
        "\n",
        "# Generate ROC curves for both version of the L.R. model.\n",
        "ROC_lr_1 <- roc(hr_test$Attrition, hr_test$Attrition_prediction_lr_1)\n",
        "ROC_lr_2 <- roc(hr_test$Attrition, hr_test$Attrition_prediction_lr_2)\n",
        "\n",
        "# Print the AUC for both versions of the model\n",
        "paste(\"AUC for Logistic Regression Model (all variables):\", round(auc(ROC_lr_1),2), \"(red)\")\n",
        "paste(\"AUC for Logistic Regression Model (limited variables):\", round(auc(ROC_lr_2),2), \"(blue)\")\n",
        "\n",
        "# Plot the ROC curves.\n",
        "plot.roc(ROC_lr_1, col=\"red\")\n",
        "lines.roc(ROC_lr_2, col=\"blue\")\n"
      ],
      "execution_count": null,
      "outputs": [
        {
          "output_type": "stream",
          "text": [
            "Setting levels: control = 0, case = 1\n",
            "Setting direction: controls < cases\n",
            "Setting levels: control = 0, case = 1\n",
            "Setting direction: controls < cases\n"
          ],
          "name": "stderr"
        },
        {
          "output_type": "display_data",
          "data": {
            "text/html": [
              "'AUC for Logistic Regression Model (all variables): 0.82 (red)'"
            ],
            "text/latex": "'AUC for Logistic Regression Model (all variables): 0.82 (red)'",
            "text/markdown": "'AUC for Logistic Regression Model (all variables): 0.82 (red)'",
            "text/plain": [
              "[1] \"AUC for Logistic Regression Model (all variables): 0.82 (red)\""
            ]
          },
          "metadata": {
            "tags": []
          }
        },
        {
          "output_type": "display_data",
          "data": {
            "text/html": [
              "'AUC for Logistic Regression Model (limited variables): 0.78 (blue)'"
            ],
            "text/latex": "'AUC for Logistic Regression Model (limited variables): 0.78 (blue)'",
            "text/markdown": "'AUC for Logistic Regression Model (limited variables): 0.78 (blue)'",
            "text/plain": [
              "[1] \"AUC for Logistic Regression Model (limited variables): 0.78 (blue)\""
            ]
          },
          "metadata": {
            "tags": []
          }
        },
        {
          "output_type": "display_data",
          "data": {
            "image/png": "[encoded data removed]",
            "text/plain": [
              "plot without title"
            ]
          },
          "metadata": {
            "tags": []
          }
        }
      ]
    },
    {
      "cell_type": "markdown",
      "metadata": {
        "id": "z9hatysjlF82"
      },
      "source": [
        "**These results show that the simpler model (5 variables) performs nearly as well as the initial, more complex model (24 variables).  As such, we will elect to use the simpler model (\"hr_model_lr_2\").**"
      ]
    }
  ]
}