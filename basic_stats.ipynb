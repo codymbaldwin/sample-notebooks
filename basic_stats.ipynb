{
  "nbformat": 4,
  "nbformat_minor": 0,
  "metadata": {
    "colab": {
      "name": "LSS - Process Measurement (Cap Data).ipynb",
      "provenance": [],
      "authorship_tag": "ABX9TyPfKzyeF9LjPnKLXjAEs7cw"
    },
    "kernelspec": {
      "name": "python3",
      "display_name": "Python 3"
    }
  },
  "cells": [
    {
      "cell_type": "markdown",
      "metadata": {
        "id": "Dspt1gP3KD17"
      },
      "source": [
        "# **Basic Stats Example** -- Water Bottles\n",
        "\n",
        "**A quality control engineer needs to ensure that the caps on water bottles are fastened correctly.** If the caps are *too loose*, they may fall off during shipping. If they are too tight, they will be difficult to remove.  The engineer collects a random sample of 68 bottles and tests the amount of torque that is needed to remove the caps.  The target torque value is 18."
      ]
    },
    {
      "cell_type": "markdown",
      "metadata": {
        "id": "QBs4eIMu-emr"
      },
      "source": [
        "### Import Python Libraries\n",
        "\n",
        "Python libraries help to extend the Python programming language -- or to help make our tasks easier.  There are *lots* of Python libraries and they do *lots* of different things.  For our purposes, we will import **\"pandas\"** to load and manipulate data, **\"scipy\"** for statistics, and **\"seaborn\"** for graphical analysis."
      ]
    },
    {
      "cell_type": "code",
      "metadata": {
        "id": "JLDqsnxuKK_l"
      },
      "source": [
        "# Load Python libraries for data analysis and visualization.\n",
        "import pandas as pd\n",
        "from scipy import stats\n",
        "import matplotlib.pyplot as plt\n",
        "import seaborn as sns\n",
        "sns.set(style='darkgrid')"
      ],
      "execution_count": null,
      "outputs": []
    },
    {
      "cell_type": "markdown",
      "metadata": {
        "id": "8KtWj5mV-jSK"
      },
      "source": [
        "### Load Data from Github (Option #1)\n",
        "\n",
        "One of the biggest challenges that people run into with Google Colab is loading data.  For simplicity, our dataset from this example has already been stored in the cloud on Github.  (We also used a URL shortener to make it easier to type.)  To see what this file looks like, you can copy the following link (http://bit.ly/cap_torque) and paste into your browser window.  (To learn more about how to upload files to Github, you can review this [article](https://www.labnol.org/internet/free-file-hosting-github/29092/).)  Another option for loading your data is from your own hard drive.  (See option #2 below.)"
      ]
    },
    {
      "cell_type": "code",
      "metadata": {
        "id": "_-Ktr4iMKlfx"
      },
      "source": [
        "# Load the CSV file with the sample of patient wait times.\n",
        "df_caps = pd.read_csv('http://bit.ly/cap_torque')"
      ],
      "execution_count": null,
      "outputs": []
    },
    {
      "cell_type": "markdown",
      "metadata": {
        "id": "nXN-B-O7_aOk"
      },
      "source": [
        "### Load Data from Your Computer  (Option #2)\n",
        "\n",
        "You can also load data into Google Colab from your own computer.  To do so, once you have the file downloaded from [here](https://drive.google.com/file/d/1PrEECxoercDrIvMG_jBPVQAsBTc5OCxM/view?usp=sharing), (1) run the next cell to select the file on your hard drive and (2) run the cell after to load the CSV file into a dataframe.  (Ensure that the name of the file is spelled correctly in the second cell below.)"
      ]
    },
    {
      "cell_type": "code",
      "metadata": {
        "id": "Et_ezphi__ZQ"
      },
      "source": [
        "# Select where data file is located on our local drive.\n",
        "from google.colab import files\n",
        "uploaded = files.upload()"
      ],
      "execution_count": null,
      "outputs": []
    },
    {
      "cell_type": "code",
      "metadata": {
        "id": "mnDdeBjGAQ5p"
      },
      "source": [
        "# Load the CSV file into a dataframe.\n",
        "import io\n",
        "df_caps = pd.read_csv(io.BytesIO(uploaded['cap_data.csv']))"
      ],
      "execution_count": null,
      "outputs": []
    },
    {
      "cell_type": "markdown",
      "metadata": {
        "id": "2x45z8xq-EtL"
      },
      "source": [
        "### Generate Desciptive Stats\n",
        "\n",
        "It is fairly easy in generate basic stats in Python using the \"describe\" function, but before that, let's preview the first few records in the data using the \"head\" function.  This will help us to better interpret the results later."
      ]
    },
    {
      "cell_type": "code",
      "metadata": {
        "id": "8SnZ27Ly7-HB",
        "colab": {
          "base_uri": "https://localhost:8080/",
          "height": 204
        },
        "outputId": "2933815b-5d45-4fd7-f861-f14f98f359ab"
      },
      "source": [
        "# Preview the first few records in the data set.\n",
        "df_caps.head()"
      ],
      "execution_count": null,
      "outputs": [
        {
          "output_type": "execute_result",
          "data": {
            "text/html": [
              "<div>\n",
              "<style scoped>\n",
              "    .dataframe tbody tr th:only-of-type {\n",
              "        vertical-align: middle;\n",
              "    }\n",
              "\n",
              "    .dataframe tbody tr th {\n",
              "        vertical-align: top;\n",
              "    }\n",
              "\n",
              "    .dataframe thead th {\n",
              "        text-align: right;\n",
              "    }\n",
              "</style>\n",
              "<table border=\"1\" class=\"dataframe\">\n",
              "  <thead>\n",
              "    <tr style=\"text-align: right;\">\n",
              "      <th></th>\n",
              "      <th>Torque</th>\n",
              "      <th>Machine</th>\n",
              "    </tr>\n",
              "  </thead>\n",
              "  <tbody>\n",
              "    <tr>\n",
              "      <th>0</th>\n",
              "      <td>24</td>\n",
              "      <td>2</td>\n",
              "    </tr>\n",
              "    <tr>\n",
              "      <th>1</th>\n",
              "      <td>14</td>\n",
              "      <td>1</td>\n",
              "    </tr>\n",
              "    <tr>\n",
              "      <th>2</th>\n",
              "      <td>18</td>\n",
              "      <td>1</td>\n",
              "    </tr>\n",
              "    <tr>\n",
              "      <th>3</th>\n",
              "      <td>27</td>\n",
              "      <td>2</td>\n",
              "    </tr>\n",
              "    <tr>\n",
              "      <th>4</th>\n",
              "      <td>17</td>\n",
              "      <td>2</td>\n",
              "    </tr>\n",
              "  </tbody>\n",
              "</table>\n",
              "</div>"
            ],
            "text/plain": [
              "   Torque  Machine\n",
              "0      24        2\n",
              "1      14        1\n",
              "2      18        1\n",
              "3      27        2\n",
              "4      17        2"
            ]
          },
          "metadata": {
            "tags": []
          },
          "execution_count": 54
        }
      ]
    },
    {
      "cell_type": "code",
      "metadata": {
        "id": "_o64hjMlMNWC",
        "colab": {
          "base_uri": "https://localhost:8080/",
          "height": 297
        },
        "outputId": "66e5c74e-4f7e-4ef9-c5e7-ce2517297abb"
      },
      "source": [
        "# Generate summary stats for the numeric fields.\n",
        "df_caps.describe()"
      ],
      "execution_count": null,
      "outputs": [
        {
          "output_type": "execute_result",
          "data": {
            "text/html": [
              "<div>\n",
              "<style scoped>\n",
              "    .dataframe tbody tr th:only-of-type {\n",
              "        vertical-align: middle;\n",
              "    }\n",
              "\n",
              "    .dataframe tbody tr th {\n",
              "        vertical-align: top;\n",
              "    }\n",
              "\n",
              "    .dataframe thead th {\n",
              "        text-align: right;\n",
              "    }\n",
              "</style>\n",
              "<table border=\"1\" class=\"dataframe\">\n",
              "  <thead>\n",
              "    <tr style=\"text-align: right;\">\n",
              "      <th></th>\n",
              "      <th>Torque</th>\n",
              "      <th>Machine</th>\n",
              "    </tr>\n",
              "  </thead>\n",
              "  <tbody>\n",
              "    <tr>\n",
              "      <th>count</th>\n",
              "      <td>68.000000</td>\n",
              "      <td>68.000000</td>\n",
              "    </tr>\n",
              "    <tr>\n",
              "      <th>mean</th>\n",
              "      <td>21.264706</td>\n",
              "      <td>1.470588</td>\n",
              "    </tr>\n",
              "    <tr>\n",
              "      <th>std</th>\n",
              "      <td>6.422018</td>\n",
              "      <td>0.502845</td>\n",
              "    </tr>\n",
              "    <tr>\n",
              "      <th>min</th>\n",
              "      <td>10.000000</td>\n",
              "      <td>1.000000</td>\n",
              "    </tr>\n",
              "    <tr>\n",
              "      <th>25%</th>\n",
              "      <td>16.000000</td>\n",
              "      <td>1.000000</td>\n",
              "    </tr>\n",
              "    <tr>\n",
              "      <th>50%</th>\n",
              "      <td>20.000000</td>\n",
              "      <td>1.000000</td>\n",
              "    </tr>\n",
              "    <tr>\n",
              "      <th>75%</th>\n",
              "      <td>24.250000</td>\n",
              "      <td>2.000000</td>\n",
              "    </tr>\n",
              "    <tr>\n",
              "      <th>max</th>\n",
              "      <td>37.000000</td>\n",
              "      <td>2.000000</td>\n",
              "    </tr>\n",
              "  </tbody>\n",
              "</table>\n",
              "</div>"
            ],
            "text/plain": [
              "          Torque    Machine\n",
              "count  68.000000  68.000000\n",
              "mean   21.264706   1.470588\n",
              "std     6.422018   0.502845\n",
              "min    10.000000   1.000000\n",
              "25%    16.000000   1.000000\n",
              "50%    20.000000   1.000000\n",
              "75%    24.250000   2.000000\n",
              "max    37.000000   2.000000"
            ]
          },
          "metadata": {
            "tags": []
          },
          "execution_count": 55
        }
      ]
    },
    {
      "cell_type": "markdown",
      "metadata": {
        "id": "rbbVpGTX-OVp"
      },
      "source": [
        "### Perform a Normality Test\n",
        "\n",
        "We often test normality of a data set, since many statistical techniques assume the properties of a normal distribution.  It changes how we handle the data.  After conducting this test, if the *p-value* is greater than 0.05, the data is normal enough for our purposes.  **Based on the result below, we assume the data is not normal.**"
      ]
    },
    {
      "cell_type": "code",
      "metadata": {
        "id": "PMNlI8bQMen_",
        "colab": {
          "base_uri": "https://localhost:8080/",
          "height": 34
        },
        "outputId": "b006dec5-97d3-4067-e29e-3ed69b39389a"
      },
      "source": [
        "# Conduct a test to evaluate normality.\n",
        "stats.normaltest(df_caps['Torque'])"
      ],
      "execution_count": null,
      "outputs": [
        {
          "output_type": "execute_result",
          "data": {
            "text/plain": [
              "NormaltestResult(statistic=6.806596774461121, pvalue=0.03326337333329624)"
            ]
          },
          "metadata": {
            "tags": []
          },
          "execution_count": 57
        }
      ]
    },
    {
      "cell_type": "markdown",
      "metadata": {
        "id": "7r_CON0d9vrO"
      },
      "source": [
        "### Peform Graphical Analysis\n",
        "\n",
        "**Seaborn is a great Python library for visualizating your data.** You can search \"seaborn examples\" to see some of the possibilities and to get ideas for what visualizations might be useful for your analysis."
      ]
    },
    {
      "cell_type": "code",
      "metadata": {
        "id": "TbK4YRz6Mx3P",
        "colab": {
          "base_uri": "https://localhost:8080/",
          "height": 285
        },
        "outputId": "d7c5671a-f731-4a03-8620-13ee9241b0d5"
      },
      "source": [
        "# Generate a histogram showing the distribution of torque values.\n",
        "sns.distplot(df_caps['Torque']);"
      ],
      "execution_count": null,
      "outputs": [
        {
          "output_type": "display_data",
          "data": {
            "image/png": "[encoded data removed]",
            "text/plain": [
              "<Figure size 432x288 with 1 Axes>"
            ]
          },
          "metadata": {
            "tags": []
          }
        }
      ]
    },
    {
      "cell_type": "code",
      "metadata": {
        "id": "9Ynb-_R5NQHV",
        "colab": {
          "base_uri": "https://localhost:8080/",
          "height": 285
        },
        "outputId": "a5666aa2-44ae-4ef6-df1b-28a169800472"
      },
      "source": [
        "# Create a box plot showing the distribution of torque by machine.\n",
        "sns.boxplot(x='Machine', y='Torque', data=df_caps);"
      ],
      "execution_count": null,
      "outputs": [
        {
          "output_type": "display_data",
          "data": {
            "image/png": "[encoded data removed]",
            "text/plain": [
              "<Figure size 432x288 with 1 Axes>"
            ]
          },
          "metadata": {
            "tags": []
          }
        }
      ]
    },
    {
      "cell_type": "code",
      "metadata": {
        "id": "nLJQ7-V_Nb8k",
        "colab": {
          "base_uri": "https://localhost:8080/",
          "height": 285
        },
        "outputId": "e239f7ea-a106-4e3e-e575-6df43d8e4cc4"
      },
      "source": [
        "# Create a violin plot showing the distribution of torque by machine.\n",
        "sns.violinplot(x='Machine', y='Torque', data=df_caps);"
      ],
      "execution_count": null,
      "outputs": [
        {
          "output_type": "display_data",
          "data": {
            "image/png": "[encoded data removed]",
            "text/plain": [
              "<Figure size 432x288 with 1 Axes>"
            ]
          },
          "metadata": {
            "tags": []
          }
        }
      ]
    },
    {
      "cell_type": "code",
      "metadata": {
        "id": "pag4JeftX--x",
        "colab": {
          "base_uri": "https://localhost:8080/",
          "height": 285
        },
        "outputId": "29754575-7731-4c2b-a20f-b3e835d39643"
      },
      "source": [
        "# Create a swarm plot showing the distribution of torque by machine.\n",
        "sns.swarmplot(x='Machine', y='Torque', data=df_caps);"
      ],
      "execution_count": null,
      "outputs": [
        {
          "output_type": "display_data",
          "data": {
            "image/png": "[encoded data removed]",
            "text/plain": [
              "<Figure size 432x288 with 1 Axes>"
            ]
          },
          "metadata": {
            "tags": []
          }
        }
      ]
    }
  ]
}